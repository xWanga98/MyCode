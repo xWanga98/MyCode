{
  "cells": [
    {
      "cell_type": "markdown",
      "metadata": {
        "id": "view-in-github",
        "colab_type": "text"
      },
      "source": [
        "<a href=\"https://colab.research.google.com/github/xWanga98/MyCode/blob/master/mEsc_v1.ipynb\" target=\"_parent\"><img src=\"https://colab.research.google.com/assets/colab-badge.svg\" alt=\"Open In Colab\"/></a>"
      ]
    },
    {
      "cell_type": "code",
      "execution_count": null,
      "metadata": {
        "colab": {
          "base_uri": "https://localhost:8080/"
        },
        "id": "ZczeKd2XpQE9",
        "outputId": "a42b3db7-11f5-4b84-b455-4ac5eeaf4f83"
      },
      "outputs": [
        {
          "name": "stdout",
          "output_type": "stream",
          "text": [
            "NVIDIA-SMI has failed because it couldn't communicate with the NVIDIA driver. Make sure that the latest NVIDIA driver is installed and running.\n",
            "\n"
          ]
        }
      ],
      "source": [
        "!nvidia-smi\n"
      ]
    },
    {
      "cell_type": "code",
      "execution_count": null,
      "metadata": {
        "id": "LFw00wahpgeb"
      },
      "outputs": [],
      "source": [
        "import glob\n",
        "# Importing drive method from colab for accessing google drive\n",
        "from google.colab import drive"
      ]
    },
    {
      "cell_type": "code",
      "execution_count": null,
      "metadata": {
        "colab": {
          "base_uri": "https://localhost:8080/"
        },
        "id": "21Kfzd7tpr8r",
        "outputId": "564d6fe8-30cd-47c9-b9d1-b1b7936930a0"
      },
      "outputs": [
        {
          "name": "stdout",
          "output_type": "stream",
          "text": [
            "Mounted at /Data\n"
          ]
        }
      ],
      "source": [
        "# Mounting drive\n",
        "# This will require authentication : Follow the steps as guided\n",
        "drive.mount('/Data')"
      ]
    },
    {
      "cell_type": "code",
      "execution_count": null,
      "metadata": {
        "colab": {
          "base_uri": "https://localhost:8080/"
        },
        "id": "PWwP0r-mKzuq",
        "outputId": "b5945cea-0ef2-4bd6-f59a-707b3546e16f"
      },
      "outputs": [
        {
          "name": "stdout",
          "output_type": "stream",
          "text": [
            "mesc_cell.h5\t\t     mesc_gene_pairs_400.txt\n",
            "mesc_gene_pairs_400_num.txt  mesc_sc_gene_list.txt\n"
          ]
        }
      ],
      "source": [
        "!ls /Data/'My Drive'/CNNC_V1/data"
      ]
    },
    {
      "cell_type": "code",
      "execution_count": null,
      "metadata": {
        "colab": {
          "base_uri": "https://localhost:8080/"
        },
        "id": "2A9Y5nvVLFZj",
        "outputId": "620dcc17-5160-41fd-f0b5-7c5443dab3e1"
      },
      "outputs": [
        {
          "name": "stdout",
          "output_type": "stream",
          "text": [
            "read sc gene list\n"
          ]
        }
      ],
      "source": [
        "import pandas as pd\n",
        "from numpy import *\n",
        "import json, re,os, sys\n",
        "save_dir = os.path.join(os.getcwd(),'NEPDF_data')\n",
        "if not os.path.isdir(save_dir):\n",
        "    os.makedirs(save_dir)\n",
        "\n",
        "def get_gene_list(file_name):\n",
        "    import re\n",
        "    h={}\n",
        "    s = open(file_name,'r') #gene symbol ID list of sc RNA-seq\n",
        "    for line in s:\n",
        "        search_result = re.search(r'^([^\\s]+)\\s+([^\\s]+)',line)\n",
        "        h[search_result.group(1).lower()]=search_result.group(2) # h [gene symbol] = gene ID\n",
        "    s.close()\n",
        "    return h\n",
        "\n",
        "def get_sepration_index (file_name):\n",
        "    import numpy as np\n",
        "    index_list = []\n",
        "    s = open(file_name, 'r')\n",
        "    for line in s:\n",
        "        index_list.append(int(line))\n",
        "    return (np.array(index_list))\n",
        "\n",
        "\n",
        "h_gene_list =get_gene_list('/content/drive/MyDrive/CNNC_V1/data/mesc_sc_gene_list.txt') # 'sc_gene_list.txt')#\n",
        "print ('read sc gene list')\n"
      ]
    },
    {
      "cell_type": "code",
      "execution_count": null,
      "metadata": {
        "colab": {
          "base_uri": "https://localhost:8080/"
        },
        "id": "7F5fzcwGMI9i",
        "outputId": "3126e4de-663d-4fce-a6c4-9c57356ef6b1"
      },
      "outputs": [
        {
          "name": "stdout",
          "output_type": "stream",
          "text": [
            "read sc RNA-seq expression\n"
          ]
        }
      ],
      "source": [
        "store = pd.HDFStore('/content/drive/MyDrive/CNNC_V1/data/mesc_cell.h5')#'/home/yey3/sc_process_1/rank_total_gene_rpkm.h5')    # scRNA-seq expression data                        )#\n",
        "rpkm = store['/RPKMs']\n",
        "store.close()\n",
        "print('read sc RNA-seq expression')"
      ]
    },
    {
      "cell_type": "code",
      "execution_count": null,
      "metadata": {
        "colab": {
          "base_uri": "https://localhost:8080/"
        },
        "id": "Crbgu4hpM_aK",
        "outputId": "73626bff-c21f-4a1f-d9e2-94384630e6fb"
      },
      "outputs": [
        {
          "data": {
            "text/plain": [
              "(2717, 24175)"
            ]
          },
          "execution_count": 5,
          "metadata": {},
          "output_type": "execute_result"
        }
      ],
      "source": [
        "rpkm.shape"
      ]
    },
    {
      "cell_type": "code",
      "execution_count": null,
      "metadata": {
        "id": "8RCejJdGOSEY"
      },
      "outputs": [],
      "source": [
        "Data=rpkm.drop(columns=rpkm.loc[:,(rpkm==0).all()].columns)"
      ]
    },
    {
      "cell_type": "code",
      "execution_count": null,
      "metadata": {
        "colab": {
          "base_uri": "https://localhost:8080/",
          "height": 505
        },
        "id": "7e1AHqLbPLLF",
        "outputId": "b445a758-255c-479a-b0ae-11ba1adc0c74"
      },
      "outputs": [
        {
          "data": {
            "text/html": [
              "\n",
              "  <div id=\"df-5e2d2a8e-0ec1-41d8-a827-dfbf7eef1e7a\">\n",
              "    <div class=\"colab-df-container\">\n",
              "      <div>\n",
              "<style scoped>\n",
              "    .dataframe tbody tr th:only-of-type {\n",
              "        vertical-align: middle;\n",
              "    }\n",
              "\n",
              "    .dataframe tbody tr th {\n",
              "        vertical-align: top;\n",
              "    }\n",
              "\n",
              "    .dataframe thead th {\n",
              "        text-align: right;\n",
              "    }\n",
              "</style>\n",
              "<table border=\"1\" class=\"dataframe\">\n",
              "  <thead>\n",
              "    <tr style=\"text-align: right;\">\n",
              "      <th></th>\n",
              "      <th>0610005c13rik</th>\n",
              "      <th>0610007p14rik</th>\n",
              "      <th>0610009b22rik</th>\n",
              "      <th>0610009l18rik</th>\n",
              "      <th>0610009o20rik</th>\n",
              "      <th>0610010b08rik</th>\n",
              "      <th>0610010f05rik</th>\n",
              "      <th>0610010k14rik</th>\n",
              "      <th>0610011f06rik</th>\n",
              "      <th>0610012g03rik</th>\n",
              "      <th>...</th>\n",
              "      <th>zxdc</th>\n",
              "      <th>zyg11a</th>\n",
              "      <th>zyg11b</th>\n",
              "      <th>zyx</th>\n",
              "      <th>zzef1</th>\n",
              "      <th>zzz3</th>\n",
              "      <th>a</th>\n",
              "      <th>associated</th>\n",
              "      <th>l7rn6</th>\n",
              "      <th>n-r5s136</th>\n",
              "    </tr>\n",
              "  </thead>\n",
              "  <tbody>\n",
              "    <tr>\n",
              "      <th>0</th>\n",
              "      <td>0.000000</td>\n",
              "      <td>0.254026</td>\n",
              "      <td>0.000000</td>\n",
              "      <td>0.254026</td>\n",
              "      <td>1.016105</td>\n",
              "      <td>0.000000</td>\n",
              "      <td>0.762079</td>\n",
              "      <td>1.016105</td>\n",
              "      <td>0.508053</td>\n",
              "      <td>0.508053</td>\n",
              "      <td>...</td>\n",
              "      <td>1.270132</td>\n",
              "      <td>0.000000</td>\n",
              "      <td>4.826500</td>\n",
              "      <td>0.508053</td>\n",
              "      <td>1.016105</td>\n",
              "      <td>1.524158</td>\n",
              "      <td>0.0</td>\n",
              "      <td>0.000000</td>\n",
              "      <td>0.762079</td>\n",
              "      <td>0.000000</td>\n",
              "    </tr>\n",
              "    <tr>\n",
              "      <th>1</th>\n",
              "      <td>0.677645</td>\n",
              "      <td>0.677645</td>\n",
              "      <td>0.677645</td>\n",
              "      <td>0.000000</td>\n",
              "      <td>0.225882</td>\n",
              "      <td>0.000000</td>\n",
              "      <td>0.225882</td>\n",
              "      <td>0.903526</td>\n",
              "      <td>0.225882</td>\n",
              "      <td>0.225882</td>\n",
              "      <td>...</td>\n",
              "      <td>1.355289</td>\n",
              "      <td>0.000000</td>\n",
              "      <td>4.291749</td>\n",
              "      <td>0.225882</td>\n",
              "      <td>2.032934</td>\n",
              "      <td>0.225882</td>\n",
              "      <td>0.0</td>\n",
              "      <td>0.000000</td>\n",
              "      <td>0.677645</td>\n",
              "      <td>0.000000</td>\n",
              "    </tr>\n",
              "    <tr>\n",
              "      <th>2</th>\n",
              "      <td>0.214335</td>\n",
              "      <td>0.428669</td>\n",
              "      <td>0.000000</td>\n",
              "      <td>0.214335</td>\n",
              "      <td>0.643004</td>\n",
              "      <td>0.214335</td>\n",
              "      <td>0.643004</td>\n",
              "      <td>0.214335</td>\n",
              "      <td>0.214335</td>\n",
              "      <td>0.214335</td>\n",
              "      <td>...</td>\n",
              "      <td>3.429355</td>\n",
              "      <td>0.000000</td>\n",
              "      <td>2.786351</td>\n",
              "      <td>0.428669</td>\n",
              "      <td>0.428669</td>\n",
              "      <td>0.214335</td>\n",
              "      <td>0.0</td>\n",
              "      <td>0.000000</td>\n",
              "      <td>1.071674</td>\n",
              "      <td>0.000000</td>\n",
              "    </tr>\n",
              "    <tr>\n",
              "      <th>3</th>\n",
              "      <td>0.000000</td>\n",
              "      <td>0.328289</td>\n",
              "      <td>0.000000</td>\n",
              "      <td>0.328289</td>\n",
              "      <td>0.328289</td>\n",
              "      <td>0.000000</td>\n",
              "      <td>0.000000</td>\n",
              "      <td>0.328289</td>\n",
              "      <td>0.328289</td>\n",
              "      <td>0.328289</td>\n",
              "      <td>...</td>\n",
              "      <td>0.984866</td>\n",
              "      <td>0.328289</td>\n",
              "      <td>3.939464</td>\n",
              "      <td>0.656577</td>\n",
              "      <td>0.328289</td>\n",
              "      <td>0.656577</td>\n",
              "      <td>0.0</td>\n",
              "      <td>0.000000</td>\n",
              "      <td>0.656577</td>\n",
              "      <td>0.000000</td>\n",
              "    </tr>\n",
              "    <tr>\n",
              "      <th>4</th>\n",
              "      <td>0.000000</td>\n",
              "      <td>0.000000</td>\n",
              "      <td>0.000000</td>\n",
              "      <td>0.000000</td>\n",
              "      <td>0.000000</td>\n",
              "      <td>0.000000</td>\n",
              "      <td>0.000000</td>\n",
              "      <td>2.239474</td>\n",
              "      <td>0.746491</td>\n",
              "      <td>0.000000</td>\n",
              "      <td>...</td>\n",
              "      <td>2.239474</td>\n",
              "      <td>0.000000</td>\n",
              "      <td>2.239474</td>\n",
              "      <td>0.000000</td>\n",
              "      <td>1.492983</td>\n",
              "      <td>0.746491</td>\n",
              "      <td>0.0</td>\n",
              "      <td>0.000000</td>\n",
              "      <td>0.746491</td>\n",
              "      <td>0.000000</td>\n",
              "    </tr>\n",
              "    <tr>\n",
              "      <th>...</th>\n",
              "      <td>...</td>\n",
              "      <td>...</td>\n",
              "      <td>...</td>\n",
              "      <td>...</td>\n",
              "      <td>...</td>\n",
              "      <td>...</td>\n",
              "      <td>...</td>\n",
              "      <td>...</td>\n",
              "      <td>...</td>\n",
              "      <td>...</td>\n",
              "      <td>...</td>\n",
              "      <td>...</td>\n",
              "      <td>...</td>\n",
              "      <td>...</td>\n",
              "      <td>...</td>\n",
              "      <td>...</td>\n",
              "      <td>...</td>\n",
              "      <td>...</td>\n",
              "      <td>...</td>\n",
              "      <td>...</td>\n",
              "      <td>...</td>\n",
              "    </tr>\n",
              "    <tr>\n",
              "      <th>2712</th>\n",
              "      <td>0.633754</td>\n",
              "      <td>0.000000</td>\n",
              "      <td>0.000000</td>\n",
              "      <td>0.000000</td>\n",
              "      <td>0.316877</td>\n",
              "      <td>0.000000</td>\n",
              "      <td>0.633754</td>\n",
              "      <td>0.000000</td>\n",
              "      <td>0.000000</td>\n",
              "      <td>0.316877</td>\n",
              "      <td>...</td>\n",
              "      <td>0.950631</td>\n",
              "      <td>0.000000</td>\n",
              "      <td>3.485645</td>\n",
              "      <td>0.950631</td>\n",
              "      <td>0.633754</td>\n",
              "      <td>0.000000</td>\n",
              "      <td>0.0</td>\n",
              "      <td>0.000000</td>\n",
              "      <td>0.950631</td>\n",
              "      <td>0.000000</td>\n",
              "    </tr>\n",
              "    <tr>\n",
              "      <th>2713</th>\n",
              "      <td>0.000000</td>\n",
              "      <td>0.558982</td>\n",
              "      <td>0.558982</td>\n",
              "      <td>0.186327</td>\n",
              "      <td>0.931637</td>\n",
              "      <td>0.000000</td>\n",
              "      <td>0.186327</td>\n",
              "      <td>1.490618</td>\n",
              "      <td>0.745309</td>\n",
              "      <td>0.372655</td>\n",
              "      <td>...</td>\n",
              "      <td>0.931637</td>\n",
              "      <td>0.186327</td>\n",
              "      <td>2.422255</td>\n",
              "      <td>0.558982</td>\n",
              "      <td>0.745309</td>\n",
              "      <td>0.745309</td>\n",
              "      <td>0.0</td>\n",
              "      <td>0.000000</td>\n",
              "      <td>1.117964</td>\n",
              "      <td>0.000000</td>\n",
              "    </tr>\n",
              "    <tr>\n",
              "      <th>2714</th>\n",
              "      <td>0.000000</td>\n",
              "      <td>0.661026</td>\n",
              "      <td>0.000000</td>\n",
              "      <td>0.330513</td>\n",
              "      <td>0.000000</td>\n",
              "      <td>0.000000</td>\n",
              "      <td>0.661026</td>\n",
              "      <td>0.000000</td>\n",
              "      <td>0.000000</td>\n",
              "      <td>0.661026</td>\n",
              "      <td>...</td>\n",
              "      <td>1.322052</td>\n",
              "      <td>0.330513</td>\n",
              "      <td>2.644104</td>\n",
              "      <td>2.974617</td>\n",
              "      <td>0.661026</td>\n",
              "      <td>0.000000</td>\n",
              "      <td>0.0</td>\n",
              "      <td>0.000000</td>\n",
              "      <td>0.661026</td>\n",
              "      <td>0.330513</td>\n",
              "    </tr>\n",
              "    <tr>\n",
              "      <th>2715</th>\n",
              "      <td>0.411150</td>\n",
              "      <td>0.205575</td>\n",
              "      <td>0.205575</td>\n",
              "      <td>0.000000</td>\n",
              "      <td>1.027876</td>\n",
              "      <td>0.000000</td>\n",
              "      <td>0.000000</td>\n",
              "      <td>0.205575</td>\n",
              "      <td>0.000000</td>\n",
              "      <td>0.205575</td>\n",
              "      <td>...</td>\n",
              "      <td>0.822301</td>\n",
              "      <td>0.000000</td>\n",
              "      <td>2.261327</td>\n",
              "      <td>0.822301</td>\n",
              "      <td>1.439026</td>\n",
              "      <td>0.822301</td>\n",
              "      <td>0.0</td>\n",
              "      <td>0.000000</td>\n",
              "      <td>0.822301</td>\n",
              "      <td>0.000000</td>\n",
              "    </tr>\n",
              "    <tr>\n",
              "      <th>2716</th>\n",
              "      <td>0.000000</td>\n",
              "      <td>1.131478</td>\n",
              "      <td>0.000000</td>\n",
              "      <td>0.000000</td>\n",
              "      <td>0.000000</td>\n",
              "      <td>0.000000</td>\n",
              "      <td>0.000000</td>\n",
              "      <td>0.000000</td>\n",
              "      <td>0.000000</td>\n",
              "      <td>0.000000</td>\n",
              "      <td>...</td>\n",
              "      <td>1.131478</td>\n",
              "      <td>0.000000</td>\n",
              "      <td>2.262955</td>\n",
              "      <td>1.131478</td>\n",
              "      <td>1.697217</td>\n",
              "      <td>0.565739</td>\n",
              "      <td>0.0</td>\n",
              "      <td>0.565739</td>\n",
              "      <td>1.131478</td>\n",
              "      <td>0.000000</td>\n",
              "    </tr>\n",
              "  </tbody>\n",
              "</table>\n",
              "<p>2717 rows × 24047 columns</p>\n",
              "</div>\n",
              "      <button class=\"colab-df-convert\" onclick=\"convertToInteractive('df-5e2d2a8e-0ec1-41d8-a827-dfbf7eef1e7a')\"\n",
              "              title=\"Convert this dataframe to an interactive table.\"\n",
              "              style=\"display:none;\">\n",
              "        \n",
              "  <svg xmlns=\"http://www.w3.org/2000/svg\" height=\"24px\"viewBox=\"0 0 24 24\"\n",
              "       width=\"24px\">\n",
              "    <path d=\"M0 0h24v24H0V0z\" fill=\"none\"/>\n",
              "    <path d=\"M18.56 5.44l.94 2.06.94-2.06 2.06-.94-2.06-.94-.94-2.06-.94 2.06-2.06.94zm-11 1L8.5 8.5l.94-2.06 2.06-.94-2.06-.94L8.5 2.5l-.94 2.06-2.06.94zm10 10l.94 2.06.94-2.06 2.06-.94-2.06-.94-.94-2.06-.94 2.06-2.06.94z\"/><path d=\"M17.41 7.96l-1.37-1.37c-.4-.4-.92-.59-1.43-.59-.52 0-1.04.2-1.43.59L10.3 9.45l-7.72 7.72c-.78.78-.78 2.05 0 2.83L4 21.41c.39.39.9.59 1.41.59.51 0 1.02-.2 1.41-.59l7.78-7.78 2.81-2.81c.8-.78.8-2.07 0-2.86zM5.41 20L4 18.59l7.72-7.72 1.47 1.35L5.41 20z\"/>\n",
              "  </svg>\n",
              "      </button>\n",
              "      \n",
              "  <style>\n",
              "    .colab-df-container {\n",
              "      display:flex;\n",
              "      flex-wrap:wrap;\n",
              "      gap: 12px;\n",
              "    }\n",
              "\n",
              "    .colab-df-convert {\n",
              "      background-color: #E8F0FE;\n",
              "      border: none;\n",
              "      border-radius: 50%;\n",
              "      cursor: pointer;\n",
              "      display: none;\n",
              "      fill: #1967D2;\n",
              "      height: 32px;\n",
              "      padding: 0 0 0 0;\n",
              "      width: 32px;\n",
              "    }\n",
              "\n",
              "    .colab-df-convert:hover {\n",
              "      background-color: #E2EBFA;\n",
              "      box-shadow: 0px 1px 2px rgba(60, 64, 67, 0.3), 0px 1px 3px 1px rgba(60, 64, 67, 0.15);\n",
              "      fill: #174EA6;\n",
              "    }\n",
              "\n",
              "    [theme=dark] .colab-df-convert {\n",
              "      background-color: #3B4455;\n",
              "      fill: #D2E3FC;\n",
              "    }\n",
              "\n",
              "    [theme=dark] .colab-df-convert:hover {\n",
              "      background-color: #434B5C;\n",
              "      box-shadow: 0px 1px 3px 1px rgba(0, 0, 0, 0.15);\n",
              "      filter: drop-shadow(0px 1px 2px rgba(0, 0, 0, 0.3));\n",
              "      fill: #FFFFFF;\n",
              "    }\n",
              "  </style>\n",
              "\n",
              "      <script>\n",
              "        const buttonEl =\n",
              "          document.querySelector('#df-5e2d2a8e-0ec1-41d8-a827-dfbf7eef1e7a button.colab-df-convert');\n",
              "        buttonEl.style.display =\n",
              "          google.colab.kernel.accessAllowed ? 'block' : 'none';\n",
              "\n",
              "        async function convertToInteractive(key) {\n",
              "          const element = document.querySelector('#df-5e2d2a8e-0ec1-41d8-a827-dfbf7eef1e7a');\n",
              "          const dataTable =\n",
              "            await google.colab.kernel.invokeFunction('convertToInteractive',\n",
              "                                                     [key], {});\n",
              "          if (!dataTable) return;\n",
              "\n",
              "          const docLinkHtml = 'Like what you see? Visit the ' +\n",
              "            '<a target=\"_blank\" href=https://colab.research.google.com/notebooks/data_table.ipynb>data table notebook</a>'\n",
              "            + ' to learn more about interactive tables.';\n",
              "          element.innerHTML = '';\n",
              "          dataTable['output_type'] = 'display_data';\n",
              "          await google.colab.output.renderOutput(dataTable, element);\n",
              "          const docLink = document.createElement('div');\n",
              "          docLink.innerHTML = docLinkHtml;\n",
              "          element.appendChild(docLink);\n",
              "        }\n",
              "      </script>\n",
              "    </div>\n",
              "  </div>\n",
              "  "
            ],
            "text/plain": [
              "      0610005c13rik  0610007p14rik  0610009b22rik  0610009l18rik  \\\n",
              "0          0.000000       0.254026       0.000000       0.254026   \n",
              "1          0.677645       0.677645       0.677645       0.000000   \n",
              "2          0.214335       0.428669       0.000000       0.214335   \n",
              "3          0.000000       0.328289       0.000000       0.328289   \n",
              "4          0.000000       0.000000       0.000000       0.000000   \n",
              "...             ...            ...            ...            ...   \n",
              "2712       0.633754       0.000000       0.000000       0.000000   \n",
              "2713       0.000000       0.558982       0.558982       0.186327   \n",
              "2714       0.000000       0.661026       0.000000       0.330513   \n",
              "2715       0.411150       0.205575       0.205575       0.000000   \n",
              "2716       0.000000       1.131478       0.000000       0.000000   \n",
              "\n",
              "      0610009o20rik  0610010b08rik  0610010f05rik  0610010k14rik  \\\n",
              "0          1.016105       0.000000       0.762079       1.016105   \n",
              "1          0.225882       0.000000       0.225882       0.903526   \n",
              "2          0.643004       0.214335       0.643004       0.214335   \n",
              "3          0.328289       0.000000       0.000000       0.328289   \n",
              "4          0.000000       0.000000       0.000000       2.239474   \n",
              "...             ...            ...            ...            ...   \n",
              "2712       0.316877       0.000000       0.633754       0.000000   \n",
              "2713       0.931637       0.000000       0.186327       1.490618   \n",
              "2714       0.000000       0.000000       0.661026       0.000000   \n",
              "2715       1.027876       0.000000       0.000000       0.205575   \n",
              "2716       0.000000       0.000000       0.000000       0.000000   \n",
              "\n",
              "      0610011f06rik  0610012g03rik  ...      zxdc    zyg11a    zyg11b  \\\n",
              "0          0.508053       0.508053  ...  1.270132  0.000000  4.826500   \n",
              "1          0.225882       0.225882  ...  1.355289  0.000000  4.291749   \n",
              "2          0.214335       0.214335  ...  3.429355  0.000000  2.786351   \n",
              "3          0.328289       0.328289  ...  0.984866  0.328289  3.939464   \n",
              "4          0.746491       0.000000  ...  2.239474  0.000000  2.239474   \n",
              "...             ...            ...  ...       ...       ...       ...   \n",
              "2712       0.000000       0.316877  ...  0.950631  0.000000  3.485645   \n",
              "2713       0.745309       0.372655  ...  0.931637  0.186327  2.422255   \n",
              "2714       0.000000       0.661026  ...  1.322052  0.330513  2.644104   \n",
              "2715       0.000000       0.205575  ...  0.822301  0.000000  2.261327   \n",
              "2716       0.000000       0.000000  ...  1.131478  0.000000  2.262955   \n",
              "\n",
              "           zyx     zzef1      zzz3    a  associated     l7rn6  n-r5s136  \n",
              "0     0.508053  1.016105  1.524158  0.0    0.000000  0.762079  0.000000  \n",
              "1     0.225882  2.032934  0.225882  0.0    0.000000  0.677645  0.000000  \n",
              "2     0.428669  0.428669  0.214335  0.0    0.000000  1.071674  0.000000  \n",
              "3     0.656577  0.328289  0.656577  0.0    0.000000  0.656577  0.000000  \n",
              "4     0.000000  1.492983  0.746491  0.0    0.000000  0.746491  0.000000  \n",
              "...        ...       ...       ...  ...         ...       ...       ...  \n",
              "2712  0.950631  0.633754  0.000000  0.0    0.000000  0.950631  0.000000  \n",
              "2713  0.558982  0.745309  0.745309  0.0    0.000000  1.117964  0.000000  \n",
              "2714  2.974617  0.661026  0.000000  0.0    0.000000  0.661026  0.330513  \n",
              "2715  0.822301  1.439026  0.822301  0.0    0.000000  0.822301  0.000000  \n",
              "2716  1.131478  1.697217  0.565739  0.0    0.565739  1.131478  0.000000  \n",
              "\n",
              "[2717 rows x 24047 columns]"
            ]
          },
          "execution_count": 21,
          "metadata": {},
          "output_type": "execute_result"
        }
      ],
      "source": [
        "Data"
      ]
    },
    {
      "cell_type": "code",
      "execution_count": null,
      "metadata": {
        "id": "_X8KKWqJP8oT"
      },
      "outputs": [],
      "source": [
        "#删除标签文件中基因对关系为2的数据\n",
        "df= pd.read_csv('/content/drive/MyDrive/CNNC_V1/data/mesc_gene_pairs_400.txt', sep='\\t', header=None)\n",
        "\n",
        "# print(data.shape)\n",
        "# print(data.columns)\n",
        "df.columns = ['gene1','gene2','relationship']\n",
        "# print(df.head(5))\n",
        "# df2=df.drop(df[df['result']==2].index)\n",
        "\n",
        "df2=df.drop(df[df['relationship']==2].index)\n",
        "df2.to_csv('/content/drive/MyDrive/CNNC_V1/data/mesc_gene_pairs_delete2.csv',header=0,index=0,sep=\"\\t\")"
      ]
    },
    {
      "cell_type": "code",
      "execution_count": null,
      "metadata": {
        "id": "q76WuNApPVhU"
      },
      "outputs": [],
      "source": [
        "########## generate NEPDF matrix\n",
        "import numpy as np\n",
        "gene_pair_label = []\n",
        "s=open('/content/drive/MyDrive/CNNC_V1/data/mesc_gene_pairs_delete2.csv')#'mmukegg_new_new_unique_rand_labelx.txt')#)   ### read the gene pair and label file\n",
        "for line in s:\n",
        "    gene_pair_label.append(line)\n"
      ]
    },
    {
      "cell_type": "code",
      "execution_count": null,
      "metadata": {
        "colab": {
          "background_save": true
        },
        "id": "Qk-tOznhUrw9",
        "outputId": "c5f351ba-621e-4c2a-89c8-f6e0881c1def"
      },
      "outputs": [
        {
          "name": "stdout",
          "output_type": "stream",
          "text": [
            "0\n",
            "1\n",
            "2\n",
            "3\n",
            "4\n"
          ]
        }
      ],
      "source": [
        "gene_pair_index = get_sepration_index('/content/drive/MyDrive/CNNC_V1/data/mesc_genesplit_index5.txt')#'mmukegg_new_new_unique_rand_labelx_num.npy')#sys.argv[6]) # read file speration index\n",
        "s.close()\n",
        "gene_pair_label_array = array(gene_pair_label)\n"
      ]
    },
    {
      "cell_type": "code",
      "execution_count": null,
      "metadata": {
        "colab": {
          "base_uri": "https://localhost:8080/"
        },
        "id": "l_if1baFXC6i",
        "outputId": "d7465c1f-7a81-4c3b-a2a6-7e86b8a0c57b"
      },
      "outputs": [
        {
          "name": "stdout",
          "output_type": "stream",
          "text": [
            "0\n",
            "1\n",
            "2\n",
            "3\n",
            "4\n"
          ]
        }
      ],
      "source": [
        "for i in range(len(gene_pair_index)-1):   #### many sperations\n",
        "    print (i)\n",
        "    start_index = gene_pair_index[i]\n",
        "    end_index = gene_pair_index[i+1]\n",
        "    x = []\n",
        "    y = []\n",
        "    z = []\n",
        "    for gene_pair in gene_pair_label_array[start_index:end_index]: ## each speration\n",
        "        separation = gene_pair.split()\n",
        "        \n",
        "        x_gene_name,y_gene_name,label = separation[0],separation[1],separation[2]\n",
        "        y.append(label)\n",
        "        z.append(x_gene_name+'\\t'+y_gene_name)\n",
        "\n",
        "        cell_LR_expression = np.array(Data[[x_gene_name, y_gene_name]]) # postive sample\n",
        "       \n",
        "         ## sc is none, only bulk\n",
        "        x.append(cell_LR_expression)\n",
        "\n",
        "        # xx = array(x)\n",
        "   \n",
        "    save(save_dir+'/Nxdata_tf' + str(i) + '.npy', x)\n",
        "    save(save_dir+'/ydata_tf' + str(i) + '.npy', array(y))\n",
        "    save(save_dir+'/zdata_tf' + str(i) + '.npy', array(z))"
      ]
    },
    {
      "cell_type": "code",
      "execution_count": null,
      "metadata": {
        "id": "ApUfVOOVciKz"
      },
      "outputs": [],
      "source": [
        "from __future__ import print_function\n",
        "import keras\n",
        "import os,sys\n",
        "import matplotlib\n",
        "matplotlib.use('Agg')\n",
        "import matplotlib.pyplot as plt\n",
        "from sklearn import metrics\n",
        "from scipy import interp\n",
        "from keras import Input, Model\n",
        "from keras.callbacks import EarlyStopping, ModelCheckpoint\n",
        "from keras.layers import Dense, Flatten\n",
        "from tensorflow.keras.optimizers import Adam\n",
        "from keras.regularizers import l2\n",
        "#from spektral.datasets import mnist\n",
        "from spektral.layers import GCNConv\n",
        "from spektral.utils import sp_matrix_to_sp_tensor\n",
        "from spektral.utils import normalized_laplacian\n",
        "\n",
        "\n",
        "####################################### parameter settings\n",
        "l2_reg = 5e-7  # Regularization rate for l2\n",
        "learning_rate = 1*1e-6  # Learning rate for SGD\n",
        "batch_size = 512  # Batch size\n",
        "epochs = 100 # Number of training epochs\n",
        "es_patience = 50  # Patience fot early stopping\n",
        "###################################################\n",
        "from scipy import sparse as sp\n",
        "import pickle"
      ]
    },
    {
      "cell_type": "code",
      "execution_count": null,
      "metadata": {
        "id": "tJ7Av6eBgXX_"
      },
      "outputs": [],
      "source": [
        "from sklearn.decomposition import PCA\n",
        "from sklearn import preprocessing\n",
        "from sklearn.neighbors import NearestNeighbors\n",
        "from collections import Counter\n",
        "from scipy.spatial.distance import pdist, squareform\n"
      ]
    },
    {
      "cell_type": "code",
      "execution_count": null,
      "metadata": {
        "id": "MXz0niYJhpnt"
      },
      "outputs": [],
      "source": [
        "Data_mat=np.array(Data)\n"
      ]
    },
    {
      "cell_type": "code",
      "execution_count": null,
      "metadata": {
        "id": "enII8ozBhu_s"
      },
      "outputs": [],
      "source": [
        "pca=PCA(n_components=0.95,svd_solver='full')#实例化\n",
        "pca.fit(Data_mat)#拟合模型\n",
        "pca_reduction=pca.transform(Data_mat)#获取降维后新数据\n",
        "\n",
        "nbrs = NearestNeighbors(n_neighbors=10, algorithm='ball_tree').fit(pca_reduction)\n",
        "distances, indices = nbrs.kneighbors(pca_reduction)\n",
        "\n",
        "scaler = preprocessing.StandardScaler().fit(pca_reduction)\n",
        "pca_reduction_scaled = scaler.transform(pca_reduction)"
      ]
    },
    {
      "cell_type": "code",
      "execution_count": null,
      "metadata": {
        "id": "hfj5edOIkkXU"
      },
      "outputs": [],
      "source": [
        "from pandas import DataFrame"
      ]
    },
    {
      "cell_type": "code",
      "execution_count": null,
      "metadata": {
        "id": "9e4cx4E6kSrY"
      },
      "outputs": [],
      "source": [
        "labels=['factor'+str(x) for x in range(0,pca_reduction_scaled.shape[1])]\n",
        "df_one=DataFrame(pca_reduction_scaled)\n",
        "df_one['lables']='factor'\n",
        "\n",
        "def Findmax(nparr):\n",
        "    c=nparr.tolist()\n",
        "    return c.index(max(c))\n",
        "\n",
        "for i in range(pca_reduction_scaled.shape[1]):\n",
        "    z=Findmax(pca_reduction_scaled[i])\n",
        "    df_one.loc[i,'lables']='f('+str(z)+')'\n",
        "    \n",
        "#统计每个细胞K个近邻中标记的数量\n",
        "#得到样本标记因子\n",
        "maxgene=np.argmax(pca_reduction_scaled,axis=1)+1\n",
        "maxgene_list=list(maxgene)\n",
        "indices_list=list(range(pca_reduction_scaled.shape[0]))\n",
        "\n",
        "dict_x={indices_list[i]:maxgene_list[i] for i in range(pca_reduction_scaled.shape[0])}\n",
        "\n",
        "data_x=[]\n",
        "list_x=[]\n",
        "arr_list_x=[]\n",
        "value_list=[]\n",
        "FN=[]\n",
        "\n",
        "def counter(Array):\n",
        "    return Counter(arr_list_x)\n",
        "\n",
        "def presbar(count): \n",
        "    plt.style.use('seaborn-darkgrid')\n",
        "    plt.bar(list(res.keys()), res.values(), width=0.9, color='g')\n",
        "    plt.ylabel('Number of tags for sample K neighbors')\n",
        "    plt.xlabel('f('+str(count+1)+')')\n",
        "    plt.title('FN('+str(count+1)+')')\n",
        "    plt.xticks(np.arange(1,pca_reduction_scaled.shape[1]+1))\n",
        "#     plt.show()\n",
        "#     return \n",
        "#获取向量   \n",
        "def getvector(dict_y,i):\n",
        "    vectors=[0]*pca_reduction_scaled.shape[1]\n",
        "    for keys_k,values_v in dict_y:\n",
        "        vectors[keys_k-1]=values_v\n",
        "    FN.append(vectors)\n",
        "    return \n",
        "\n",
        "for i in range(pca_reduction_scaled.shape[0]):\n",
        "    p1 = {key:value for key, value in dict_x.items() if key in indices[i]}\n",
        "    value_x=p1.values()\n",
        "    value_list=list(value_x)\n",
        "    arr_list_x=np.array(value_list)\n",
        "    res=counter(value_list)\n",
        "    getvector(res.items(),i)\n",
        "    \n",
        "X=np.mat(FN)\n",
        "Y = pdist(X, 'cityblock')\n",
        "# #将浓缩矩阵还原得到距离矩阵\n",
        "x = squareform(Y)\n"
      ]
    },
    {
      "cell_type": "code",
      "execution_count": null,
      "metadata": {
        "colab": {
          "base_uri": "https://localhost:8080/",
          "height": 35
        },
        "id": "Hq9vzArdwwvB",
        "outputId": "a141c091-23f7-4266-a80d-b131489675e0"
      },
      "outputs": [
        {
          "data": {
            "application/vnd.google.colaboratory.intrinsic+json": {
              "type": "string"
            },
            "text/plain": [
              "'/content'"
            ]
          },
          "execution_count": 63,
          "metadata": {},
          "output_type": "execute_result"
        }
      ],
      "source": [
        "current_path = os.path.abspath('.')\n",
        "current_path"
      ]
    },
    {
      "cell_type": "code",
      "execution_count": null,
      "metadata": {
        "id": "m36AUjx9laEi"
      },
      "outputs": [],
      "source": [
        "from scipy import sparse\n",
        "import pickle\n",
        "import spektral\n",
        "import scipy.linalg\n",
        "for threshold in [4]:#[100,140,180,210,220,260]:#range (210,211):#(100,400,40):\n",
        "   distance_matrix_threshold_I_list = []\n",
        "   distance_matrix_threshold_I = np.zeros(x.shape)\n",
        "   for i in range(distance_matrix_threshold_I.shape[0]):\n",
        "      for j in range(distance_matrix_threshold_I.shape[1]):\n",
        "          if x[i,j] <= threshold:\n",
        "              distance_matrix_threshold_I[i,j] = 1\n",
        "      distance_matrix_threshold_I_list.append(distance_matrix_threshold_I)\n",
        "   whole_distance_matrix_threshold_I = scipy.linalg.block_diag(distance_matrix_threshold_I_list)                                                           distance_matrix_threshold_I_list[4],\n",
        "                                                       \n",
        "    ############### get normalized sparse adjacent matrix\n",
        "   distance_matrix_threshold_I_N = spektral.utils.normalized_adjacency(whole_distance_matrix_threshold_I, symmetric=True)\n",
        "  # distance_matrix_threshold_I_N = np.float32(whole_distance_matrix_threshold_I) ## do not normalize adjcent matrix\n",
        "   distance_matrix_threshold_I_N = np.float32(whole_distance_matrix_threshold_I)\n",
        "   distance_matrix_threshold_I_N_crs = sparse.csr_matrix(distance_matrix_threshold_I_N)\n",
        "   with open(current_path+'/seqfish_plus/whole_FOV_distance_I_N_crs_'+str(threshold), 'wb') as fp:\n",
        "      pickle.dump(distance_matrix_threshold_I_N_crs, fp)\n",
        "   distance_matrix_threshold_I_N = np.float32(whole_distance_matrix_threshold_I) ## do not normalize adjcent matrix\n",
        "  distance_matrix_threshold_I_N_crs = sparse.csr_matrix(distance_matrix_threshold_I_N)\n",
        "  with open(current_path+'/seqfish_plus/whole_FOV_distance_I_N_crs_'+str(threshold), 'wb') as fp:\n",
        "      pickle.dump(distance_matrix_threshold_I_N_crs, fp)"
      ]
    },
    {
      "cell_type": "code",
      "execution_count": null,
      "metadata": {
        "id": "TZs5Rj3VdMQl"
      },
      "outputs": [],
      "source": [
        "from scipy import sparse as sp\n",
        "import pickle\n",
        "\n",
        "with open(current_path+'/seqfish_plus/whole_FOV_distance_I_crs_140', 'rb') as fp:\n",
        "    adj = pickle.load(fp)\n",
        "\n",
        "def degree_power(adj, pow):\n",
        "    \"\"\"\n",
        "    Computes \\(D^{p}\\) from the given adjacency matrix. Useful for computing\n",
        "    normalised Laplacians.\n",
        "    :param adj: rank 2 array or sparse matrix\n",
        "    :param pow: exponent to which elevate the degree matrix\n",
        "    :return: the exponentiated degree matrix in sparse DIA format\n",
        "    \"\"\"\n",
        "    degrees = np.power(np.array(adj.sum(1)), pow).flatten()\n",
        "    degrees[np.isinf(degrees)] = 0.\n",
        "    if sp.issparse(adj):\n",
        "        D = sp.diags(degrees)\n",
        "    else:\n",
        "        D = np.diag(degrees)\n",
        "    return D\n",
        "\n",
        "\t\n",
        "def self_connection_normalized_adjacency(adj, symmetric=True):\n",
        "    \"\"\"\n",
        "    Normalizes the given adjacency matrix using the degree matrix as either\n",
        "    \\(D~^{-1}A~\\) or \\(D~^{-1/2}A~D~^{-1/2}\\) (symmetric normalization).where A~ = A+I\n",
        "    :param adj: rank 2 array or sparse matrix;\n",
        "    :param symmetric: boolean, compute symmetric normalization;\n",
        "    :return: the normalized adjacency matrix.\n",
        "    \"\"\"\n",
        "    if sp.issparse(adj):\n",
        "        I = sp.eye(adj.shape[-1], dtype=adj.dtype)\n",
        "    else:\n",
        "        I = np.eye(adj.shape[-1], dtype=adj.dtype)\n",
        "    A1 = adj + I\n",
        "    if symmetric:\n",
        "        normalized_D = degree_power(A1, -0.5)\n",
        "        output = normalized_D.dot(A1).dot(normalized_D)\n",
        "    else:\n",
        "        normalized_D = degree_power(A1, -1.)\n",
        "        output = normalized_D.dot(A1)\n",
        "    return output"
      ]
    }
  ],
  "metadata": {
    "colab": {
      "name": "mEsc_v1.ipynb",
      "provenance": [],
      "mount_file_id": "1lCPgcpC7iIaEAk1tJyWtfpBPzaVoBkHM",
      "authorship_tag": "ABX9TyNdG4lmFZNgMdSfhEOFTYzA",
      "include_colab_link": true
    },
    "gpuClass": "standard",
    "kernelspec": {
      "display_name": "Python 3",
      "name": "python3"
    },
    "language_info": {
      "name": "python"
    }
  },
  "nbformat": 4,
  "nbformat_minor": 0
}